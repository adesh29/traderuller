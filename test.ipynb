{
 "cells": [
  {
   "cell_type": "code",
   "execution_count": 4,
   "metadata": {},
   "outputs": [],
   "source": [
    "\n",
    "import random as rd"
   ]
  },
  {
   "cell_type": "code",
   "execution_count": 12,
   "metadata": {},
   "outputs": [
    {
     "name": "stdout",
     "output_type": "stream",
     "text": [
      "Round :  0\n",
      "Player 0\n",
      "water    crystal\n",
      "Player 1\n",
      "wood    water\n",
      "Player 2\n",
      "water    water\n",
      "Round :  1\n",
      "Player 0\n",
      "iron    iron\n",
      "Player 1\n",
      "wood    wood\n",
      "Player 2\n",
      "water    iron\n",
      "Round :  2\n",
      "Player 0\n",
      "iron    water\n",
      "Player 1\n",
      "crystal    water\n",
      "Player 2\n",
      "iron    clay\n",
      "Round :  3\n",
      "Player 0\n",
      "wood    crystal\n",
      "Player 1\n",
      "clay    clay\n",
      "Player 2\n",
      "clay    clay\n",
      "Round :  4\n",
      "Player 0\n",
      "wood    water\n",
      "Player 1\n",
      "iron    water\n",
      "Player 2\n",
      "clay    iron\n"
     ]
    }
   ],
   "source": [
    "list=[\"wood\", \"iron\", \"clay\", \"water\", \"crystal\"]\n",
    "for round in range(5):\n",
    "    print(\"Round : \", round)\n",
    "    for i in range(3):\n",
    "    \n",
    "        \n",
    "        k=rd.randint(0,4)\n",
    "        j=rd.randint(0,4)\n",
    "        print(\"Player\", i)\n",
    "        print(list[k],\"  \",list[j])"
   ]
  }
 ],
 "metadata": {
  "kernelspec": {
   "display_name": "Python 3",
   "language": "python",
   "name": "python3"
  },
  "language_info": {
   "codemirror_mode": {
    "name": "ipython",
    "version": 3
   },
   "file_extension": ".py",
   "mimetype": "text/x-python",
   "name": "python",
   "nbconvert_exporter": "python",
   "pygments_lexer": "ipython3",
   "version": "3.13.3"
  }
 },
 "nbformat": 4,
 "nbformat_minor": 2
}
